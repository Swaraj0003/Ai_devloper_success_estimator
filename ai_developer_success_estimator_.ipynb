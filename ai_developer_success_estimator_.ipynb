{
  "cells": [
    {
      "cell_type": "code",
      "execution_count": 39,
      "metadata": {
        "id": "q1O6B939JkZv"
      },
      "outputs": [],
      "source": [
        "import pandas as pd\n",
        "import numpy as np\n",
        "import matplotlib.pyplot as plt\n",
        "import seaborn as sns\n"
      ]
    },
    {
      "cell_type": "code",
      "execution_count": null,
      "metadata": {
        "colab": {
          "base_uri": "https://localhost:8080/",
          "height": 73
        },
        "id": "CYxDH-NEJ1Gl",
        "outputId": "fe5f316c-65eb-40e4-c5a6-6e5717746849"
      },
      "outputs": [],
      "source": []
    },
    {
      "cell_type": "code",
      "execution_count": 40,
      "metadata": {
        "id": "yK2sMnn_J1L_"
      },
      "outputs": [],
      "source": [
        "df = pd.read_csv('dev.csv')"
      ]
    },
    {
      "cell_type": "code",
      "execution_count": 41,
      "metadata": {
        "colab": {
          "base_uri": "https://localhost:8080/",
          "height": 226
        },
        "id": "fkvvUGT_J1Qu",
        "outputId": "61afb50f-a67b-4956-b656-bbc7e2052018"
      },
      "outputs": [
        {
          "data": {
            "text/html": [
              "<div>\n",
              "<style scoped>\n",
              "    .dataframe tbody tr th:only-of-type {\n",
              "        vertical-align: middle;\n",
              "    }\n",
              "\n",
              "    .dataframe tbody tr th {\n",
              "        vertical-align: top;\n",
              "    }\n",
              "\n",
              "    .dataframe thead th {\n",
              "        text-align: right;\n",
              "    }\n",
              "</style>\n",
              "<table border=\"1\" class=\"dataframe\">\n",
              "  <thead>\n",
              "    <tr style=\"text-align: right;\">\n",
              "      <th></th>\n",
              "      <th>hours_coding</th>\n",
              "      <th>coffee_intake_mg</th>\n",
              "      <th>distractions</th>\n",
              "      <th>sleep_hours</th>\n",
              "      <th>commits</th>\n",
              "      <th>bugs_reported</th>\n",
              "      <th>ai_usage_hours</th>\n",
              "      <th>cognitive_load</th>\n",
              "      <th>task_success</th>\n",
              "    </tr>\n",
              "  </thead>\n",
              "  <tbody>\n",
              "    <tr>\n",
              "      <th>0</th>\n",
              "      <td>5.99</td>\n",
              "      <td>600</td>\n",
              "      <td>1</td>\n",
              "      <td>5.8</td>\n",
              "      <td>2</td>\n",
              "      <td>1</td>\n",
              "      <td>0.71</td>\n",
              "      <td>5.4</td>\n",
              "      <td>1</td>\n",
              "    </tr>\n",
              "    <tr>\n",
              "      <th>1</th>\n",
              "      <td>4.72</td>\n",
              "      <td>568</td>\n",
              "      <td>2</td>\n",
              "      <td>6.9</td>\n",
              "      <td>5</td>\n",
              "      <td>3</td>\n",
              "      <td>1.75</td>\n",
              "      <td>4.7</td>\n",
              "      <td>1</td>\n",
              "    </tr>\n",
              "    <tr>\n",
              "      <th>2</th>\n",
              "      <td>6.30</td>\n",
              "      <td>560</td>\n",
              "      <td>1</td>\n",
              "      <td>8.9</td>\n",
              "      <td>2</td>\n",
              "      <td>0</td>\n",
              "      <td>2.27</td>\n",
              "      <td>2.2</td>\n",
              "      <td>1</td>\n",
              "    </tr>\n",
              "    <tr>\n",
              "      <th>3</th>\n",
              "      <td>8.05</td>\n",
              "      <td>600</td>\n",
              "      <td>7</td>\n",
              "      <td>6.3</td>\n",
              "      <td>9</td>\n",
              "      <td>5</td>\n",
              "      <td>1.40</td>\n",
              "      <td>5.9</td>\n",
              "      <td>0</td>\n",
              "    </tr>\n",
              "    <tr>\n",
              "      <th>4</th>\n",
              "      <td>4.53</td>\n",
              "      <td>421</td>\n",
              "      <td>6</td>\n",
              "      <td>6.9</td>\n",
              "      <td>4</td>\n",
              "      <td>0</td>\n",
              "      <td>1.26</td>\n",
              "      <td>6.3</td>\n",
              "      <td>1</td>\n",
              "    </tr>\n",
              "  </tbody>\n",
              "</table>\n",
              "</div>"
            ],
            "text/plain": [
              "   hours_coding  coffee_intake_mg  distractions  sleep_hours  commits  \\\n",
              "0          5.99               600             1          5.8        2   \n",
              "1          4.72               568             2          6.9        5   \n",
              "2          6.30               560             1          8.9        2   \n",
              "3          8.05               600             7          6.3        9   \n",
              "4          4.53               421             6          6.9        4   \n",
              "\n",
              "   bugs_reported  ai_usage_hours  cognitive_load  task_success  \n",
              "0              1            0.71             5.4             1  \n",
              "1              3            1.75             4.7             1  \n",
              "2              0            2.27             2.2             1  \n",
              "3              5            1.40             5.9             0  \n",
              "4              0            1.26             6.3             1  "
            ]
          },
          "execution_count": 41,
          "metadata": {},
          "output_type": "execute_result"
        }
      ],
      "source": [
        "df.head()"
      ]
    },
    {
      "cell_type": "code",
      "execution_count": 42,
      "metadata": {
        "colab": {
          "base_uri": "https://localhost:8080/",
          "height": 561
        },
        "id": "IC0iMLB6J1Vb",
        "outputId": "864cae16-a916-4abf-dd61-5009f82dabaf"
      },
      "outputs": [
        {
          "data": {
            "text/plain": [
              "<Axes: >"
            ]
          },
          "execution_count": 42,
          "metadata": {},
          "output_type": "execute_result"
        },
        {
          "data": {
            "image/png": "[encoded data removed]",
            "text/plain": [
              "<Figure size 640x480 with 2 Axes>"
            ]
          },
          "metadata": {},
          "output_type": "display_data"
        }
      ],
      "source": [
        "sns.heatmap(df.corr(),annot=True)"
      ]
    },
    {
      "cell_type": "code",
      "execution_count": 43,
      "metadata": {
        "colab": {
          "base_uri": "https://localhost:8080/"
        },
        "id": "-CbDpD6lJ1ZW",
        "outputId": "ece9d7a5-0e39-413c-e6eb-2012eea27688"
      },
      "outputs": [
        {
          "data": {
            "text/plain": [
              "(500, 9)"
            ]
          },
          "execution_count": 43,
          "metadata": {},
          "output_type": "execute_result"
        }
      ],
      "source": [
        "df.shape"
      ]
    },
    {
      "cell_type": "code",
      "execution_count": 44,
      "metadata": {
        "colab": {
          "base_uri": "https://localhost:8080/",
          "height": 226
        },
        "id": "nYr8KH7HJ1dG",
        "outputId": "8033424a-3f68-4188-ca94-ac06c8732938"
      },
      "outputs": [
        {
          "data": {
            "text/html": [
              "<div>\n",
              "<style scoped>\n",
              "    .dataframe tbody tr th:only-of-type {\n",
              "        vertical-align: middle;\n",
              "    }\n",
              "\n",
              "    .dataframe tbody tr th {\n",
              "        vertical-align: top;\n",
              "    }\n",
              "\n",
              "    .dataframe thead th {\n",
              "        text-align: right;\n",
              "    }\n",
              "</style>\n",
              "<table border=\"1\" class=\"dataframe\">\n",
              "  <thead>\n",
              "    <tr style=\"text-align: right;\">\n",
              "      <th></th>\n",
              "      <th>hours_coding</th>\n",
              "      <th>coffee_intake_mg</th>\n",
              "      <th>distractions</th>\n",
              "      <th>sleep_hours</th>\n",
              "      <th>commits</th>\n",
              "      <th>bugs_reported</th>\n",
              "      <th>ai_usage_hours</th>\n",
              "      <th>cognitive_load</th>\n",
              "      <th>task_success</th>\n",
              "    </tr>\n",
              "  </thead>\n",
              "  <tbody>\n",
              "    <tr>\n",
              "      <th>0</th>\n",
              "      <td>5.99</td>\n",
              "      <td>600</td>\n",
              "      <td>1</td>\n",
              "      <td>5.8</td>\n",
              "      <td>2</td>\n",
              "      <td>1</td>\n",
              "      <td>0.71</td>\n",
              "      <td>5.4</td>\n",
              "      <td>1</td>\n",
              "    </tr>\n",
              "    <tr>\n",
              "      <th>1</th>\n",
              "      <td>4.72</td>\n",
              "      <td>568</td>\n",
              "      <td>2</td>\n",
              "      <td>6.9</td>\n",
              "      <td>5</td>\n",
              "      <td>3</td>\n",
              "      <td>1.75</td>\n",
              "      <td>4.7</td>\n",
              "      <td>1</td>\n",
              "    </tr>\n",
              "    <tr>\n",
              "      <th>2</th>\n",
              "      <td>6.30</td>\n",
              "      <td>560</td>\n",
              "      <td>1</td>\n",
              "      <td>8.9</td>\n",
              "      <td>2</td>\n",
              "      <td>0</td>\n",
              "      <td>2.27</td>\n",
              "      <td>2.2</td>\n",
              "      <td>1</td>\n",
              "    </tr>\n",
              "    <tr>\n",
              "      <th>3</th>\n",
              "      <td>8.05</td>\n",
              "      <td>600</td>\n",
              "      <td>7</td>\n",
              "      <td>6.3</td>\n",
              "      <td>9</td>\n",
              "      <td>5</td>\n",
              "      <td>1.40</td>\n",
              "      <td>5.9</td>\n",
              "      <td>0</td>\n",
              "    </tr>\n",
              "    <tr>\n",
              "      <th>4</th>\n",
              "      <td>4.53</td>\n",
              "      <td>421</td>\n",
              "      <td>6</td>\n",
              "      <td>6.9</td>\n",
              "      <td>4</td>\n",
              "      <td>0</td>\n",
              "      <td>1.26</td>\n",
              "      <td>6.3</td>\n",
              "      <td>1</td>\n",
              "    </tr>\n",
              "  </tbody>\n",
              "</table>\n",
              "</div>"
            ],
            "text/plain": [
              "   hours_coding  coffee_intake_mg  distractions  sleep_hours  commits  \\\n",
              "0          5.99               600             1          5.8        2   \n",
              "1          4.72               568             2          6.9        5   \n",
              "2          6.30               560             1          8.9        2   \n",
              "3          8.05               600             7          6.3        9   \n",
              "4          4.53               421             6          6.9        4   \n",
              "\n",
              "   bugs_reported  ai_usage_hours  cognitive_load  task_success  \n",
              "0              1            0.71             5.4             1  \n",
              "1              3            1.75             4.7             1  \n",
              "2              0            2.27             2.2             1  \n",
              "3              5            1.40             5.9             0  \n",
              "4              0            1.26             6.3             1  "
            ]
          },
          "execution_count": 44,
          "metadata": {},
          "output_type": "execute_result"
        }
      ],
      "source": [
        "df.head()"
      ]
    },
    {
      "cell_type": "code",
      "execution_count": 45,
      "metadata": {
        "colab": {
          "base_uri": "https://localhost:8080/",
          "height": 487
        },
        "id": "gFL3uodIJ1gs",
        "outputId": "1df28c29-9b6e-481e-b099-d0d1d43d3a1e"
      },
      "outputs": [
        {
          "data": {
            "image/png": "[encoded data removed]",
            "text/plain": [
              "<Figure size 800x500 with 1 Axes>"
            ]
          },
          "metadata": {},
          "output_type": "display_data"
        }
      ],
      "source": [
        "plt.figure(figsize=(8, 5))\n",
        "sns.countplot(x='distractions', hue='task_success', data=df)\n",
        "plt.title('Task Success Rate vs Distractions')\n",
        "plt.xlabel('Number of Distractions')\n",
        "plt.ylabel('distribution')\n",
        "plt.show()\n"
      ]
    },
    {
      "cell_type": "code",
      "execution_count": 46,
      "metadata": {
        "colab": {
          "base_uri": "https://localhost:8080/",
          "height": 504
        },
        "id": "Rp2SR2kNJ1kJ",
        "outputId": "0a73ae59-47c3-4cd5-c1e3-ef39c649abbb"
      },
      "outputs": [
        {
          "data": {
            "image/png": "[encoded data removed]",
            "text/plain": [
              "<Figure size 800x500 with 1 Axes>"
            ]
          },
          "metadata": {},
          "output_type": "display_data"
        }
      ],
      "source": [
        "plt.figure(figsize=(8, 5))\n",
        "sns.countplot(x='sleep_hours', hue='task_success', data=df)\n",
        "plt.title('sleep_hours')\n",
        "plt.xlabel('Number of sleep_hours')\n",
        "plt.xticks(rotation=90)\n",
        "plt.ylabel('distribution')\n",
        "plt.show()\n"
      ]
    },
    {
      "cell_type": "code",
      "execution_count": 47,
      "metadata": {
        "id": "2rayTEUM8FsN"
      },
      "outputs": [],
      "source": [
        "x=df.drop(['distractions','task_success'],axis=1)"
      ]
    },
    {
      "cell_type": "code",
      "execution_count": 48,
      "metadata": {
        "id": "esIqWQrcEDDN"
      },
      "outputs": [],
      "source": [
        "y=df['task_success']"
      ]
    },
    {
      "cell_type": "code",
      "execution_count": 49,
      "metadata": {
        "colab": {
          "base_uri": "https://localhost:8080/",
          "height": 553
        },
        "id": "NtHN4Tvp8Fwb",
        "outputId": "dc2e8ec3-2a3b-4be8-eae6-dccc24c695a0"
      },
      "outputs": [
        {
          "data": {
            "image/png": "[encoded data removed]",
            "text/plain": [
              "<Figure size 800x500 with 1 Axes>"
            ]
          },
          "metadata": {},
          "output_type": "display_data"
        }
      ],
      "source": [
        "plt.figure(figsize=(8, 5))\n",
        "# Optional: bin coffee intake for clearer bars\n",
        "df['coffee_bin'] = pd.cut(df['coffee_intake_mg'], bins=4)\n",
        "\n",
        "sns.countplot(x='coffee_bin', hue='task_success', data=df)\n",
        "plt.title('Task Success vs Coffee Intake (mg)')\n",
        "plt.xlabel('Coffee Intake Range (mg)')\n",
        "plt.ylabel('Average Task Success')\n",
        "plt.xticks(rotation=45)\n",
        "plt.show()\n",
        "\n"
      ]
    },
    {
      "cell_type": "code",
      "execution_count": 50,
      "metadata": {
        "colab": {
          "base_uri": "https://localhost:8080/",
          "height": 424
        },
        "id": "SMwj8W4E8F1c",
        "outputId": "6001b567-3012-42f6-f575-d48cd5786319"
      },
      "outputs": [
        {
          "data": {
            "text/html": [
              "<div>\n",
              "<style scoped>\n",
              "    .dataframe tbody tr th:only-of-type {\n",
              "        vertical-align: middle;\n",
              "    }\n",
              "\n",
              "    .dataframe tbody tr th {\n",
              "        vertical-align: top;\n",
              "    }\n",
              "\n",
              "    .dataframe thead th {\n",
              "        text-align: right;\n",
              "    }\n",
              "</style>\n",
              "<table border=\"1\" class=\"dataframe\">\n",
              "  <thead>\n",
              "    <tr style=\"text-align: right;\">\n",
              "      <th></th>\n",
              "      <th>hours_coding</th>\n",
              "      <th>coffee_intake_mg</th>\n",
              "      <th>sleep_hours</th>\n",
              "      <th>commits</th>\n",
              "      <th>bugs_reported</th>\n",
              "      <th>ai_usage_hours</th>\n",
              "      <th>cognitive_load</th>\n",
              "    </tr>\n",
              "  </thead>\n",
              "  <tbody>\n",
              "    <tr>\n",
              "      <th>0</th>\n",
              "      <td>5.99</td>\n",
              "      <td>600</td>\n",
              "      <td>5.8</td>\n",
              "      <td>2</td>\n",
              "      <td>1</td>\n",
              "      <td>0.71</td>\n",
              "      <td>5.4</td>\n",
              "    </tr>\n",
              "    <tr>\n",
              "      <th>1</th>\n",
              "      <td>4.72</td>\n",
              "      <td>568</td>\n",
              "      <td>6.9</td>\n",
              "      <td>5</td>\n",
              "      <td>3</td>\n",
              "      <td>1.75</td>\n",
              "      <td>4.7</td>\n",
              "    </tr>\n",
              "    <tr>\n",
              "      <th>2</th>\n",
              "      <td>6.30</td>\n",
              "      <td>560</td>\n",
              "      <td>8.9</td>\n",
              "      <td>2</td>\n",
              "      <td>0</td>\n",
              "      <td>2.27</td>\n",
              "      <td>2.2</td>\n",
              "    </tr>\n",
              "    <tr>\n",
              "      <th>3</th>\n",
              "      <td>8.05</td>\n",
              "      <td>600</td>\n",
              "      <td>6.3</td>\n",
              "      <td>9</td>\n",
              "      <td>5</td>\n",
              "      <td>1.40</td>\n",
              "      <td>5.9</td>\n",
              "    </tr>\n",
              "    <tr>\n",
              "      <th>4</th>\n",
              "      <td>4.53</td>\n",
              "      <td>421</td>\n",
              "      <td>6.9</td>\n",
              "      <td>4</td>\n",
              "      <td>0</td>\n",
              "      <td>1.26</td>\n",
              "      <td>6.3</td>\n",
              "    </tr>\n",
              "    <tr>\n",
              "      <th>...</th>\n",
              "      <td>...</td>\n",
              "      <td>...</td>\n",
              "      <td>...</td>\n",
              "      <td>...</td>\n",
              "      <td>...</td>\n",
              "      <td>...</td>\n",
              "      <td>...</td>\n",
              "    </tr>\n",
              "    <tr>\n",
              "      <th>495</th>\n",
              "      <td>6.08</td>\n",
              "      <td>594</td>\n",
              "      <td>5.3</td>\n",
              "      <td>3</td>\n",
              "      <td>0</td>\n",
              "      <td>0.91</td>\n",
              "      <td>6.8</td>\n",
              "    </tr>\n",
              "    <tr>\n",
              "      <th>496</th>\n",
              "      <td>2.93</td>\n",
              "      <td>382</td>\n",
              "      <td>6.7</td>\n",
              "      <td>3</td>\n",
              "      <td>2</td>\n",
              "      <td>1.38</td>\n",
              "      <td>5.9</td>\n",
              "    </tr>\n",
              "    <tr>\n",
              "      <th>497</th>\n",
              "      <td>4.62</td>\n",
              "      <td>494</td>\n",
              "      <td>7.5</td>\n",
              "      <td>2</td>\n",
              "      <td>0</td>\n",
              "      <td>0.41</td>\n",
              "      <td>4.5</td>\n",
              "    </tr>\n",
              "    <tr>\n",
              "      <th>498</th>\n",
              "      <td>3.25</td>\n",
              "      <td>296</td>\n",
              "      <td>6.9</td>\n",
              "      <td>1</td>\n",
              "      <td>0</td>\n",
              "      <td>1.52</td>\n",
              "      <td>6.3</td>\n",
              "    </tr>\n",
              "    <tr>\n",
              "      <th>499</th>\n",
              "      <td>2.23</td>\n",
              "      <td>252</td>\n",
              "      <td>8.8</td>\n",
              "      <td>0</td>\n",
              "      <td>0</td>\n",
              "      <td>1.05</td>\n",
              "      <td>2.6</td>\n",
              "    </tr>\n",
              "  </tbody>\n",
              "</table>\n",
              "<p>500 rows × 7 columns</p>\n",
              "</div>"
            ],
            "text/plain": [
              "     hours_coding  coffee_intake_mg  sleep_hours  commits  bugs_reported  \\\n",
              "0            5.99               600          5.8        2              1   \n",
              "1            4.72               568          6.9        5              3   \n",
              "2            6.30               560          8.9        2              0   \n",
              "3            8.05               600          6.3        9              5   \n",
              "4            4.53               421          6.9        4              0   \n",
              "..            ...               ...          ...      ...            ...   \n",
              "495          6.08               594          5.3        3              0   \n",
              "496          2.93               382          6.7        3              2   \n",
              "497          4.62               494          7.5        2              0   \n",
              "498          3.25               296          6.9        1              0   \n",
              "499          2.23               252          8.8        0              0   \n",
              "\n",
              "     ai_usage_hours  cognitive_load  \n",
              "0              0.71             5.4  \n",
              "1              1.75             4.7  \n",
              "2              2.27             2.2  \n",
              "3              1.40             5.9  \n",
              "4              1.26             6.3  \n",
              "..              ...             ...  \n",
              "495            0.91             6.8  \n",
              "496            1.38             5.9  \n",
              "497            0.41             4.5  \n",
              "498            1.52             6.3  \n",
              "499            1.05             2.6  \n",
              "\n",
              "[500 rows x 7 columns]"
            ]
          },
          "execution_count": 50,
          "metadata": {},
          "output_type": "execute_result"
        }
      ],
      "source": [
        "x"
      ]
    },
    {
      "cell_type": "code",
      "execution_count": 51,
      "metadata": {
        "id": "lH99laVbGTz0"
      },
      "outputs": [],
      "source": [
        "x_round=x[x.select_dtypes(include='float').columns] = x.select_dtypes(include='float').round().astype(int)\n"
      ]
    },
    {
      "cell_type": "code",
      "execution_count": 52,
      "metadata": {
        "colab": {
          "base_uri": "https://localhost:8080/",
          "height": 178
        },
        "id": "uUbEXJcx8F5Q",
        "outputId": "59486b38-9bef-4d8f-a7e6-c291b5a5e190"
      },
      "outputs": [
        {
          "data": {
            "text/plain": [
              "task_success\n",
              "1    303\n",
              "0    197\n",
              "Name: count, dtype: int64"
            ]
          },
          "execution_count": 52,
          "metadata": {},
          "output_type": "execute_result"
        }
      ],
      "source": [
        "y.value_counts()"
      ]
    },
    {
      "cell_type": "code",
      "execution_count": 53,
      "metadata": {
        "id": "rkprRSNqGyHN"
      },
      "outputs": [],
      "source": [
        "x['coffee_intake_mg'] = x['coffee_intake_mg'].round().astype(int)\n"
      ]
    },
    {
      "cell_type": "code",
      "execution_count": 54,
      "metadata": {},
      "outputs": [
        {
          "data": {
            "text/html": [
              "<div>\n",
              "<style scoped>\n",
              "    .dataframe tbody tr th:only-of-type {\n",
              "        vertical-align: middle;\n",
              "    }\n",
              "\n",
              "    .dataframe tbody tr th {\n",
              "        vertical-align: top;\n",
              "    }\n",
              "\n",
              "    .dataframe thead th {\n",
              "        text-align: right;\n",
              "    }\n",
              "</style>\n",
              "<table border=\"1\" class=\"dataframe\">\n",
              "  <thead>\n",
              "    <tr style=\"text-align: right;\">\n",
              "      <th></th>\n",
              "      <th>hours_coding</th>\n",
              "      <th>coffee_intake_mg</th>\n",
              "      <th>sleep_hours</th>\n",
              "      <th>commits</th>\n",
              "      <th>bugs_reported</th>\n",
              "      <th>ai_usage_hours</th>\n",
              "      <th>cognitive_load</th>\n",
              "    </tr>\n",
              "  </thead>\n",
              "  <tbody>\n",
              "    <tr>\n",
              "      <th>0</th>\n",
              "      <td>6</td>\n",
              "      <td>600</td>\n",
              "      <td>6</td>\n",
              "      <td>2</td>\n",
              "      <td>1</td>\n",
              "      <td>1</td>\n",
              "      <td>5</td>\n",
              "    </tr>\n",
              "    <tr>\n",
              "      <th>1</th>\n",
              "      <td>5</td>\n",
              "      <td>568</td>\n",
              "      <td>7</td>\n",
              "      <td>5</td>\n",
              "      <td>3</td>\n",
              "      <td>2</td>\n",
              "      <td>5</td>\n",
              "    </tr>\n",
              "    <tr>\n",
              "      <th>2</th>\n",
              "      <td>6</td>\n",
              "      <td>560</td>\n",
              "      <td>9</td>\n",
              "      <td>2</td>\n",
              "      <td>0</td>\n",
              "      <td>2</td>\n",
              "      <td>2</td>\n",
              "    </tr>\n",
              "    <tr>\n",
              "      <th>3</th>\n",
              "      <td>8</td>\n",
              "      <td>600</td>\n",
              "      <td>6</td>\n",
              "      <td>9</td>\n",
              "      <td>5</td>\n",
              "      <td>1</td>\n",
              "      <td>6</td>\n",
              "    </tr>\n",
              "    <tr>\n",
              "      <th>4</th>\n",
              "      <td>5</td>\n",
              "      <td>421</td>\n",
              "      <td>7</td>\n",
              "      <td>4</td>\n",
              "      <td>0</td>\n",
              "      <td>1</td>\n",
              "      <td>6</td>\n",
              "    </tr>\n",
              "    <tr>\n",
              "      <th>...</th>\n",
              "      <td>...</td>\n",
              "      <td>...</td>\n",
              "      <td>...</td>\n",
              "      <td>...</td>\n",
              "      <td>...</td>\n",
              "      <td>...</td>\n",
              "      <td>...</td>\n",
              "    </tr>\n",
              "    <tr>\n",
              "      <th>495</th>\n",
              "      <td>6</td>\n",
              "      <td>594</td>\n",
              "      <td>5</td>\n",
              "      <td>3</td>\n",
              "      <td>0</td>\n",
              "      <td>1</td>\n",
              "      <td>7</td>\n",
              "    </tr>\n",
              "    <tr>\n",
              "      <th>496</th>\n",
              "      <td>3</td>\n",
              "      <td>382</td>\n",
              "      <td>7</td>\n",
              "      <td>3</td>\n",
              "      <td>2</td>\n",
              "      <td>1</td>\n",
              "      <td>6</td>\n",
              "    </tr>\n",
              "    <tr>\n",
              "      <th>497</th>\n",
              "      <td>5</td>\n",
              "      <td>494</td>\n",
              "      <td>8</td>\n",
              "      <td>2</td>\n",
              "      <td>0</td>\n",
              "      <td>0</td>\n",
              "      <td>4</td>\n",
              "    </tr>\n",
              "    <tr>\n",
              "      <th>498</th>\n",
              "      <td>3</td>\n",
              "      <td>296</td>\n",
              "      <td>7</td>\n",
              "      <td>1</td>\n",
              "      <td>0</td>\n",
              "      <td>2</td>\n",
              "      <td>6</td>\n",
              "    </tr>\n",
              "    <tr>\n",
              "      <th>499</th>\n",
              "      <td>2</td>\n",
              "      <td>252</td>\n",
              "      <td>9</td>\n",
              "      <td>0</td>\n",
              "      <td>0</td>\n",
              "      <td>1</td>\n",
              "      <td>3</td>\n",
              "    </tr>\n",
              "  </tbody>\n",
              "</table>\n",
              "<p>500 rows × 7 columns</p>\n",
              "</div>"
            ],
            "text/plain": [
              "     hours_coding  coffee_intake_mg  sleep_hours  commits  bugs_reported  \\\n",
              "0               6               600            6        2              1   \n",
              "1               5               568            7        5              3   \n",
              "2               6               560            9        2              0   \n",
              "3               8               600            6        9              5   \n",
              "4               5               421            7        4              0   \n",
              "..            ...               ...          ...      ...            ...   \n",
              "495             6               594            5        3              0   \n",
              "496             3               382            7        3              2   \n",
              "497             5               494            8        2              0   \n",
              "498             3               296            7        1              0   \n",
              "499             2               252            9        0              0   \n",
              "\n",
              "     ai_usage_hours  cognitive_load  \n",
              "0                 1               5  \n",
              "1                 2               5  \n",
              "2                 2               2  \n",
              "3                 1               6  \n",
              "4                 1               6  \n",
              "..              ...             ...  \n",
              "495               1               7  \n",
              "496               1               6  \n",
              "497               0               4  \n",
              "498               2               6  \n",
              "499               1               3  \n",
              "\n",
              "[500 rows x 7 columns]"
            ]
          },
          "execution_count": 54,
          "metadata": {},
          "output_type": "execute_result"
        }
      ],
      "source": [
        "x"
      ]
    },
    {
      "cell_type": "code",
      "execution_count": 55,
      "metadata": {
        "colab": {
          "base_uri": "https://localhost:8080/",
          "height": 424
        },
        "id": "7EbSapysJFsL",
        "outputId": "a484926f-de80-4c15-e5ba-df997e182ac8"
      },
      "outputs": [
        {
          "data": {
            "text/html": [
              "<div>\n",
              "<style scoped>\n",
              "    .dataframe tbody tr th:only-of-type {\n",
              "        vertical-align: middle;\n",
              "    }\n",
              "\n",
              "    .dataframe tbody tr th {\n",
              "        vertical-align: top;\n",
              "    }\n",
              "\n",
              "    .dataframe thead th {\n",
              "        text-align: right;\n",
              "    }\n",
              "</style>\n",
              "<table border=\"1\" class=\"dataframe\">\n",
              "  <thead>\n",
              "    <tr style=\"text-align: right;\">\n",
              "      <th></th>\n",
              "      <th>hours_coding</th>\n",
              "      <th>coffee_intake_mg</th>\n",
              "      <th>sleep_hours</th>\n",
              "      <th>commits</th>\n",
              "      <th>bugs_reported</th>\n",
              "      <th>ai_usage_hours</th>\n",
              "      <th>cognitive_load</th>\n",
              "    </tr>\n",
              "  </thead>\n",
              "  <tbody>\n",
              "    <tr>\n",
              "      <th>0</th>\n",
              "      <td>6</td>\n",
              "      <td>600</td>\n",
              "      <td>6</td>\n",
              "      <td>2</td>\n",
              "      <td>1</td>\n",
              "      <td>1</td>\n",
              "      <td>5</td>\n",
              "    </tr>\n",
              "    <tr>\n",
              "      <th>1</th>\n",
              "      <td>5</td>\n",
              "      <td>568</td>\n",
              "      <td>7</td>\n",
              "      <td>5</td>\n",
              "      <td>3</td>\n",
              "      <td>2</td>\n",
              "      <td>5</td>\n",
              "    </tr>\n",
              "    <tr>\n",
              "      <th>2</th>\n",
              "      <td>6</td>\n",
              "      <td>560</td>\n",
              "      <td>9</td>\n",
              "      <td>2</td>\n",
              "      <td>0</td>\n",
              "      <td>2</td>\n",
              "      <td>2</td>\n",
              "    </tr>\n",
              "    <tr>\n",
              "      <th>3</th>\n",
              "      <td>8</td>\n",
              "      <td>600</td>\n",
              "      <td>6</td>\n",
              "      <td>9</td>\n",
              "      <td>5</td>\n",
              "      <td>1</td>\n",
              "      <td>6</td>\n",
              "    </tr>\n",
              "    <tr>\n",
              "      <th>4</th>\n",
              "      <td>5</td>\n",
              "      <td>421</td>\n",
              "      <td>7</td>\n",
              "      <td>4</td>\n",
              "      <td>0</td>\n",
              "      <td>1</td>\n",
              "      <td>6</td>\n",
              "    </tr>\n",
              "    <tr>\n",
              "      <th>...</th>\n",
              "      <td>...</td>\n",
              "      <td>...</td>\n",
              "      <td>...</td>\n",
              "      <td>...</td>\n",
              "      <td>...</td>\n",
              "      <td>...</td>\n",
              "      <td>...</td>\n",
              "    </tr>\n",
              "    <tr>\n",
              "      <th>495</th>\n",
              "      <td>6</td>\n",
              "      <td>594</td>\n",
              "      <td>5</td>\n",
              "      <td>3</td>\n",
              "      <td>0</td>\n",
              "      <td>1</td>\n",
              "      <td>7</td>\n",
              "    </tr>\n",
              "    <tr>\n",
              "      <th>496</th>\n",
              "      <td>3</td>\n",
              "      <td>382</td>\n",
              "      <td>7</td>\n",
              "      <td>3</td>\n",
              "      <td>2</td>\n",
              "      <td>1</td>\n",
              "      <td>6</td>\n",
              "    </tr>\n",
              "    <tr>\n",
              "      <th>497</th>\n",
              "      <td>5</td>\n",
              "      <td>494</td>\n",
              "      <td>8</td>\n",
              "      <td>2</td>\n",
              "      <td>0</td>\n",
              "      <td>0</td>\n",
              "      <td>4</td>\n",
              "    </tr>\n",
              "    <tr>\n",
              "      <th>498</th>\n",
              "      <td>3</td>\n",
              "      <td>296</td>\n",
              "      <td>7</td>\n",
              "      <td>1</td>\n",
              "      <td>0</td>\n",
              "      <td>2</td>\n",
              "      <td>6</td>\n",
              "    </tr>\n",
              "    <tr>\n",
              "      <th>499</th>\n",
              "      <td>2</td>\n",
              "      <td>252</td>\n",
              "      <td>9</td>\n",
              "      <td>0</td>\n",
              "      <td>0</td>\n",
              "      <td>1</td>\n",
              "      <td>3</td>\n",
              "    </tr>\n",
              "  </tbody>\n",
              "</table>\n",
              "<p>500 rows × 7 columns</p>\n",
              "</div>"
            ],
            "text/plain": [
              "     hours_coding  coffee_intake_mg  sleep_hours  commits  bugs_reported  \\\n",
              "0               6               600            6        2              1   \n",
              "1               5               568            7        5              3   \n",
              "2               6               560            9        2              0   \n",
              "3               8               600            6        9              5   \n",
              "4               5               421            7        4              0   \n",
              "..            ...               ...          ...      ...            ...   \n",
              "495             6               594            5        3              0   \n",
              "496             3               382            7        3              2   \n",
              "497             5               494            8        2              0   \n",
              "498             3               296            7        1              0   \n",
              "499             2               252            9        0              0   \n",
              "\n",
              "     ai_usage_hours  cognitive_load  \n",
              "0                 1               5  \n",
              "1                 2               5  \n",
              "2                 2               2  \n",
              "3                 1               6  \n",
              "4                 1               6  \n",
              "..              ...             ...  \n",
              "495               1               7  \n",
              "496               1               6  \n",
              "497               0               4  \n",
              "498               2               6  \n",
              "499               1               3  \n",
              "\n",
              "[500 rows x 7 columns]"
            ]
          },
          "execution_count": 55,
          "metadata": {},
          "output_type": "execute_result"
        }
      ],
      "source": [
        "x"
      ]
    },
    {
      "cell_type": "code",
      "execution_count": null,
      "metadata": {
        "id": "0E_itjoMH5lN"
      },
      "outputs": [],
      "source": []
    },
    {
      "cell_type": "code",
      "execution_count": 56,
      "metadata": {
        "id": "QXCwivpKINSw"
      },
      "outputs": [],
      "source": [
        "x[x.select_dtypes(include='float').columns] = x.select_dtypes(include='float').round().astype(int)"
      ]
    },
    {
      "cell_type": "code",
      "execution_count": 57,
      "metadata": {
        "id": "4PtOpPFKFBmr"
      },
      "outputs": [],
      "source": [
        "from imblearn.over_sampling import SMOTE"
      ]
    },
    {
      "cell_type": "code",
      "execution_count": 58,
      "metadata": {
        "id": "rYNQUPruFBqb"
      },
      "outputs": [],
      "source": [
        "smote = SMOTE(random_state=42)\n",
        "x_resampled, y_resampled = smote.fit_resample(x, y)"
      ]
    },
    {
      "cell_type": "code",
      "execution_count": 59,
      "metadata": {
        "id": "LWc7QAtIJaoD"
      },
      "outputs": [],
      "source": [
        "from sklearn.model_selection import train_test_split\n",
        "from sklearn.metrics import accuracy_score,classification_report,confusion_matrix\n",
        "from sklearn.linear_model import LogisticRegression\n",
        "from sklearn.tree import DecisionTreeClassifier\n",
        "from sklearn.ensemble import RandomForestClassifier\n",
        "from sklearn.svm import SVC\n",
        "from sklearn.neighbors import KNeighborsClassifier"
      ]
    },
    {
      "cell_type": "code",
      "execution_count": 60,
      "metadata": {
        "id": "IG3BMpLf8F8g"
      },
      "outputs": [],
      "source": [
        "x_train, x_test, y_train, y_test = train_test_split(x, y, test_size=0.2,stratify=y, random_state=42)"
      ]
    },
    {
      "cell_type": "code",
      "execution_count": 61,
      "metadata": {
        "colab": {
          "base_uri": "https://localhost:8080/",
          "height": 424
        },
        "id": "p9dHrKIU-G1y",
        "outputId": "cd2d814f-5040-4f72-8f14-365fba444a85"
      },
      "outputs": [
        {
          "data": {
            "text/html": [
              "<div>\n",
              "<style scoped>\n",
              "    .dataframe tbody tr th:only-of-type {\n",
              "        vertical-align: middle;\n",
              "    }\n",
              "\n",
              "    .dataframe tbody tr th {\n",
              "        vertical-align: top;\n",
              "    }\n",
              "\n",
              "    .dataframe thead th {\n",
              "        text-align: right;\n",
              "    }\n",
              "</style>\n",
              "<table border=\"1\" class=\"dataframe\">\n",
              "  <thead>\n",
              "    <tr style=\"text-align: right;\">\n",
              "      <th></th>\n",
              "      <th>hours_coding</th>\n",
              "      <th>coffee_intake_mg</th>\n",
              "      <th>sleep_hours</th>\n",
              "      <th>commits</th>\n",
              "      <th>bugs_reported</th>\n",
              "      <th>ai_usage_hours</th>\n",
              "      <th>cognitive_load</th>\n",
              "    </tr>\n",
              "  </thead>\n",
              "  <tbody>\n",
              "    <tr>\n",
              "      <th>435</th>\n",
              "      <td>5</td>\n",
              "      <td>490</td>\n",
              "      <td>9</td>\n",
              "      <td>8</td>\n",
              "      <td>0</td>\n",
              "      <td>1</td>\n",
              "      <td>2</td>\n",
              "    </tr>\n",
              "    <tr>\n",
              "      <th>54</th>\n",
              "      <td>7</td>\n",
              "      <td>600</td>\n",
              "      <td>6</td>\n",
              "      <td>6</td>\n",
              "      <td>2</td>\n",
              "      <td>1</td>\n",
              "      <td>5</td>\n",
              "    </tr>\n",
              "    <tr>\n",
              "      <th>154</th>\n",
              "      <td>6</td>\n",
              "      <td>600</td>\n",
              "      <td>7</td>\n",
              "      <td>2</td>\n",
              "      <td>0</td>\n",
              "      <td>0</td>\n",
              "      <td>5</td>\n",
              "    </tr>\n",
              "    <tr>\n",
              "      <th>71</th>\n",
              "      <td>8</td>\n",
              "      <td>600</td>\n",
              "      <td>8</td>\n",
              "      <td>8</td>\n",
              "      <td>1</td>\n",
              "      <td>1</td>\n",
              "      <td>2</td>\n",
              "    </tr>\n",
              "    <tr>\n",
              "      <th>195</th>\n",
              "      <td>6</td>\n",
              "      <td>562</td>\n",
              "      <td>5</td>\n",
              "      <td>7</td>\n",
              "      <td>0</td>\n",
              "      <td>1</td>\n",
              "      <td>5</td>\n",
              "    </tr>\n",
              "    <tr>\n",
              "      <th>...</th>\n",
              "      <td>...</td>\n",
              "      <td>...</td>\n",
              "      <td>...</td>\n",
              "      <td>...</td>\n",
              "      <td>...</td>\n",
              "      <td>...</td>\n",
              "      <td>...</td>\n",
              "    </tr>\n",
              "    <tr>\n",
              "      <th>153</th>\n",
              "      <td>5</td>\n",
              "      <td>491</td>\n",
              "      <td>8</td>\n",
              "      <td>11</td>\n",
              "      <td>1</td>\n",
              "      <td>1</td>\n",
              "      <td>6</td>\n",
              "    </tr>\n",
              "    <tr>\n",
              "      <th>172</th>\n",
              "      <td>5</td>\n",
              "      <td>467</td>\n",
              "      <td>8</td>\n",
              "      <td>4</td>\n",
              "      <td>1</td>\n",
              "      <td>1</td>\n",
              "      <td>4</td>\n",
              "    </tr>\n",
              "    <tr>\n",
              "      <th>280</th>\n",
              "      <td>5</td>\n",
              "      <td>532</td>\n",
              "      <td>8</td>\n",
              "      <td>6</td>\n",
              "      <td>1</td>\n",
              "      <td>0</td>\n",
              "      <td>2</td>\n",
              "    </tr>\n",
              "    <tr>\n",
              "      <th>375</th>\n",
              "      <td>3</td>\n",
              "      <td>436</td>\n",
              "      <td>5</td>\n",
              "      <td>5</td>\n",
              "      <td>2</td>\n",
              "      <td>2</td>\n",
              "      <td>6</td>\n",
              "    </tr>\n",
              "    <tr>\n",
              "      <th>30</th>\n",
              "      <td>4</td>\n",
              "      <td>412</td>\n",
              "      <td>8</td>\n",
              "      <td>5</td>\n",
              "      <td>0</td>\n",
              "      <td>2</td>\n",
              "      <td>3</td>\n",
              "    </tr>\n",
              "  </tbody>\n",
              "</table>\n",
              "<p>400 rows × 7 columns</p>\n",
              "</div>"
            ],
            "text/plain": [
              "     hours_coding  coffee_intake_mg  sleep_hours  commits  bugs_reported  \\\n",
              "435             5               490            9        8              0   \n",
              "54              7               600            6        6              2   \n",
              "154             6               600            7        2              0   \n",
              "71              8               600            8        8              1   \n",
              "195             6               562            5        7              0   \n",
              "..            ...               ...          ...      ...            ...   \n",
              "153             5               491            8       11              1   \n",
              "172             5               467            8        4              1   \n",
              "280             5               532            8        6              1   \n",
              "375             3               436            5        5              2   \n",
              "30              4               412            8        5              0   \n",
              "\n",
              "     ai_usage_hours  cognitive_load  \n",
              "435               1               2  \n",
              "54                1               5  \n",
              "154               0               5  \n",
              "71                1               2  \n",
              "195               1               5  \n",
              "..              ...             ...  \n",
              "153               1               6  \n",
              "172               1               4  \n",
              "280               0               2  \n",
              "375               2               6  \n",
              "30                2               3  \n",
              "\n",
              "[400 rows x 7 columns]"
            ]
          },
          "execution_count": 61,
          "metadata": {},
          "output_type": "execute_result"
        }
      ],
      "source": [
        "x_train"
      ]
    },
    {
      "cell_type": "code",
      "execution_count": 62,
      "metadata": {
        "colab": {
          "base_uri": "https://localhost:8080/"
        },
        "id": "Ifv7g2Ne8gGf",
        "outputId": "05ee44f6-2d4d-4b04-f329-eb3dc0fee833"
      },
      "outputs": [
        {
          "name": "stdout",
          "output_type": "stream",
          "text": [
            "0.92\n",
            "              precision    recall  f1-score   support\n",
            "\n",
            "           0       0.92      0.87      0.89        39\n",
            "           1       0.92      0.95      0.94        61\n",
            "\n",
            "    accuracy                           0.92       100\n",
            "   macro avg       0.92      0.91      0.92       100\n",
            "weighted avg       0.92      0.92      0.92       100\n",
            "\n",
            "[[34  5]\n",
            " [ 3 58]]\n"
          ]
        }
      ],
      "source": [
        "random = RandomForestClassifier(n_estimators=100, random_state=42)\n",
        "random.fit(x_train, y_train)\n",
        "\n",
        "y_pred3 = random.predict(x_test)\n",
        "print(accuracy_score(y_test,y_pred3))\n",
        "print(classification_report(y_test,y_pred3))\n",
        "print(confusion_matrix(y_test,y_pred3))\n"
      ]
    },
    {
      "cell_type": "code",
      "execution_count": 63,
      "metadata": {
        "colab": {
          "base_uri": "https://localhost:8080/"
        },
        "id": "qKFpm0U8HA3G",
        "outputId": "bc5e8662-80df-40b4-cc8a-b367611fce25"
      },
      "outputs": [
        {
          "name": "stdout",
          "output_type": "stream",
          "text": [
            "Training Accuracy: 1.000\n",
            "Testing Accuracy: 0.920\n",
            "Model fit looks good! 👍\n"
          ]
        }
      ],
      "source": [
        "train_acc = random.score(x_train, y_train)\n",
        "test_acc = random.score(x_test, y_test)\n",
        "\n",
        "print(f\"Training Accuracy: {train_acc:.3f}\")\n",
        "print(f\"Testing Accuracy: {test_acc:.3f}\")\n",
        "\n",
        "if train_acc > test_acc + 0.1:\n",
        "    print(\"Warning: Overfitting detected! 🐍\")\n",
        "elif train_acc < 0.7 and test_acc < 0.7:\n",
        "    print(\"Warning: Underfitting detected! 🐢\")\n",
        "else:\n",
        "    print(\"Model fit looks good! 👍\")"
      ]
    },
    {
      "cell_type": "code",
      "execution_count": 64,
      "metadata": {
        "colab": {
          "base_uri": "https://localhost:8080/"
        },
        "id": "HbP0XK--A3XS",
        "outputId": "a58b5620-a994-4c52-a989-6dafb41adb3c"
      },
      "outputs": [
        {
          "name": "stdout",
          "output_type": "stream",
          "text": [
            "Best Params: {'max_depth': None, 'n_estimators': 50}\n",
            "Best Cross-Validated Score: 0.9380000000000001\n"
          ]
        }
      ],
      "source": [
        "from sklearn.model_selection import GridSearchCV\n",
        "from sklearn.ensemble import RandomForestClassifier\n",
        "\n",
        "param_grid = {\n",
        "    'n_estimators': [50, 100],\n",
        "    'max_depth': [None, 10]\n",
        "}\n",
        "\n",
        "model = RandomForestClassifier()\n",
        "grid = GridSearchCV(model, param_grid, cv=5, scoring='accuracy')\n",
        "grid.fit(x, y)\n",
        "\n",
        "print(\"Best Params:\", grid.best_params_)\n",
        "print(\"Best Cross-Validated Score:\", grid.best_score_)\n"
      ]
    },
    {
      "cell_type": "code",
      "execution_count": 65,
      "metadata": {
        "id": "ad-Dd7vEBjFz"
      },
      "outputs": [],
      "source": [
        "import joblib\n"
      ]
    },
    {
      "cell_type": "code",
      "execution_count": 67,
      "metadata": {
        "colab": {
          "base_uri": "https://localhost:8080/"
        },
        "id": "B11rBwvXBPES",
        "outputId": "eb9a6b5e-6055-40e3-f082-18ea6dfd152a"
      },
      "outputs": [
        {
          "name": "stdout",
          "output_type": "stream",
          "text": [
            "Model saved!\n"
          ]
        }
      ],
      "source": [
        "joblib.dump(grid.best_estimator_, 'random.pkl')\n",
        "print(\"Model saved!\")"
      ]
    },
    {
      "cell_type": "code",
      "execution_count": null,
      "metadata": {
        "id": "4iHZ_HJzFwwD"
      },
      "outputs": [],
      "source": []
    },
    {
      "cell_type": "code",
      "execution_count": null,
      "metadata": {
        "id": "TNKg0XZkFw2Z"
      },
      "outputs": [],
      "source": []
    },
    {
      "cell_type": "code",
      "execution_count": null,
      "metadata": {
        "id": "Gp6G3ILhFw7N"
      },
      "outputs": [],
      "source": []
    },
    {
      "cell_type": "code",
      "execution_count": null,
      "metadata": {
        "id": "RXM0cm-yFw_d"
      },
      "outputs": [],
      "source": []
    },
    {
      "cell_type": "code",
      "execution_count": null,
      "metadata": {
        "id": "TdAV0X58FxDt"
      },
      "outputs": [],
      "source": []
    }
  ],
  "metadata": {
    "colab": {
      "provenance": []
    },
    "kernelspec": {
      "display_name": "Python 3",
      "name": "python3"
    },
    "language_info": {
      "codemirror_mode": {
        "name": "ipython",
        "version": 3
      },
      "file_extension": ".py",
      "mimetype": "text/x-python",
      "name": "python",
      "nbconvert_exporter": "python",
      "pygments_lexer": "ipython3",
      "version": "3.8.10"
    }
  },
  "nbformat": 4,
  "nbformat_minor": 0
}
